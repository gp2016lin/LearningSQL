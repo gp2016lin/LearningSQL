{
 "cells": [
  {
   "cell_type": "code",
   "execution_count": null,
   "metadata": {
    "collapsed": false
   },
   "outputs": [],
   "source": [
    "#\n",
    "# Uncomment one of these QUERY variables at a time and use \"Test Run\" to run it.\n",
    "# You'll see the results below.  Then try your own queries as well!\n",
    "#\n",
    "\n",
    "# QUERY = \"select max(name) from animals;\"\n",
    "\n",
    "# QUERY = \"select * from animals limit 10;\"\n",
    "\n",
    "# QUERY = \"select * from animals where species = 'orangutan' order by birthdate;\"\n",
    "\n",
    "# QUERY = \"select name from animals where species = 'orangutan' order by birthdate desc;\"\n",
    "\n",
    "# QUERY = \"select name, birthdate from animals order by name limit 10 offset 20;\"\n",
    "\n",
    "# QUERY = \"select species, min(birthdate) from animals group by species;\"\n",
    "\n",
    "# QUERY = '''\n",
    "# select name, count(*) as num from animals\n",
    "# group by name\n",
    "# order by num desc\n",
    "# limit 5;\n",
    "# '''"
   ]
  },
  {
   "cell_type": "code",
   "execution_count": null,
   "metadata": {
    "collapsed": true
   },
   "outputs": [],
   "source": [
    "# To see how the various functions in the DB-API work, take a look at this code,\n",
    "# then the results that it prints when you press \"Test Run\".\n",
    "#\n",
    "# Then modify this code so that the student records are fetched in sorted order\n",
    "# by student's name.\n",
    "#\n",
    "\n",
    "import sqlite3\n",
    "\n",
    "# Fetch some student records from the database.\n",
    "db = sqlite3.connect(\"students\")\n",
    "c = db.cursor()\n",
    "query = \"select name, id from students;\"\n",
    "c.execute(query)\n",
    "rows = c.fetchall()\n",
    "\n",
    "# First, what data structure did we get?\n",
    "print \"Row data:\"\n",
    "print rows\n",
    "\n",
    "# And let's loop over it too:\n",
    "print\n",
    "print \"Student names:\"\n",
    "for row in rows:\n",
    "  print \"  \", row[0]\n",
    "\n",
    "db.close()\n"
   ]
  },
  {
   "cell_type": "code",
   "execution_count": 10,
   "metadata": {
    "collapsed": false
   },
   "outputs": [
    {
     "ename": "OperationalError",
     "evalue": "no such table: balloons",
     "output_type": "error",
     "traceback": [
      "\u001b[1;31m---------------------------------------------------------------------------\u001b[0m",
      "\u001b[1;31mOperationalError\u001b[0m                          Traceback (most recent call last)",
      "\u001b[1;32m<ipython-input-10-7ec2e591c815>\u001b[0m in \u001b[0;36m<module>\u001b[1;34m()\u001b[0m\n\u001b[0;32m      3\u001b[0m \u001b[0mdb\u001b[0m \u001b[1;33m=\u001b[0m \u001b[0msqlite3\u001b[0m\u001b[1;33m.\u001b[0m\u001b[0mconnect\u001b[0m\u001b[1;33m(\u001b[0m\u001b[1;34m\"testdb\"\u001b[0m\u001b[1;33m)\u001b[0m\u001b[1;33m\u001b[0m\u001b[0m\n\u001b[0;32m      4\u001b[0m \u001b[0mc\u001b[0m \u001b[1;33m=\u001b[0m \u001b[0mdb\u001b[0m\u001b[1;33m.\u001b[0m\u001b[0mcursor\u001b[0m\u001b[1;33m(\u001b[0m\u001b[1;33m)\u001b[0m\u001b[1;33m\u001b[0m\u001b[0m\n\u001b[1;32m----> 5\u001b[1;33m \u001b[0mc\u001b[0m\u001b[1;33m.\u001b[0m\u001b[0mexecute\u001b[0m\u001b[1;33m(\u001b[0m\u001b[1;34m\"insert into balloons values ('blue', 'water') \"\u001b[0m\u001b[1;33m)\u001b[0m\u001b[1;33m\u001b[0m\u001b[0m\n\u001b[0m\u001b[0;32m      6\u001b[0m \u001b[0mdb\u001b[0m\u001b[1;33m.\u001b[0m\u001b[0mcommit\u001b[0m\u001b[1;33m(\u001b[0m\u001b[1;33m)\u001b[0m\u001b[1;33m\u001b[0m\u001b[0m\n\u001b[0;32m      7\u001b[0m \u001b[0mdb\u001b[0m\u001b[1;33m.\u001b[0m\u001b[0mclose\u001b[0m\u001b[1;33m(\u001b[0m\u001b[1;33m)\u001b[0m\u001b[1;33m\u001b[0m\u001b[0m\n",
      "\u001b[1;31mOperationalError\u001b[0m: no such table: balloons"
     ]
    }
   ],
   "source": [
    "import sqlite3\n",
    "\n",
    "db = sqlite3.connect(\"testdb\")\n",
    "c = db.cursor()\n",
    "c.execute(\"insert into balloons values ('blue', 'water') \")\n",
    "db.commit()\n",
    "db.close()"
   ]
  },
  {
   "cell_type": "code",
   "execution_count": 20,
   "metadata": {
    "collapsed": false
   },
   "outputs": [
    {
     "ename": "SyntaxError",
     "evalue": "invalid syntax (<ipython-input-20-be89f53f03c8>, line 2)",
     "output_type": "error",
     "traceback": [
      "\u001b[1;36m  File \u001b[1;32m\"<ipython-input-20-be89f53f03c8>\"\u001b[1;36m, line \u001b[1;32m2\u001b[0m\n\u001b[1;33m    create database fishies (text integer, birthd date);\u001b[0m\n\u001b[1;37m                  ^\u001b[0m\n\u001b[1;31mSyntaxError\u001b[0m\u001b[1;31m:\u001b[0m invalid syntax\n"
     ]
    }
   ],
   "source": [
    "import sqlite3\n",
    "create database fishies (text integer, birthd date);"
   ]
  },
  {
   "cell_type": "code",
   "execution_count": null,
   "metadata": {
    "collapsed": false
   },
   "outputs": [],
   "source": [
    "import psql\n",
    "\n",
    "creat table residents (id integer references students, building text references buildings (name), room text);\n",
    "select a.id, b.id from residents as a, residents as b where a.building = b.building and a.room =b.room and a.id < b.id;\n"
   ]
  },
  {
   "cell_type": "code",
   "execution_count": null,
   "metadata": {
    "collapsed": true
   },
   "outputs": [],
   "source": [
    "# In this quiz, there's a table describing bugs in various files of code.\n",
    "# Here's what the table looks like:\n",
    "#\n",
    "# create table programs (\n",
    "#    name text,\n",
    "#    filename text\n",
    "# );\n",
    "# create table bugs (\n",
    "#    filename text,\n",
    "#    description text,\n",
    "#    id serial primary key\n",
    "# );\n",
    "#\n",
    "# The query below is intended to count the number of bugs in each program. But\n",
    "# it doesn't return a row for any program that has zero bugs.  Try running it as\n",
    "# it is; then change it so that it includes rows for the programs with no bugs.\n",
    "\n",
    "QUERY = '''\n",
    "select programs.name, count(bugs.id) as num\n",
    "   from programs left join bugs\n",
    "        on programs.filename = bugs.filename\n",
    "   group by programs.name\n",
    "   order by num;\n",
    "'''"
   ]
  },
  {
   "cell_type": "code",
   "execution_count": null,
   "metadata": {
    "collapsed": true
   },
   "outputs": [],
   "source": [
    "# Find the players whose weight is less than the average.\n",
    "# \n",
    "# The function below performs two database queries in order to find the right players.\n",
    "# Refactor this code so that it performs only one query.\n",
    "#\n",
    "\n",
    "def lightweights(cursor):\n",
    "    \"\"\"Returns a list of the players in the db whose weight is less than the average.\"\"\"\n",
    "    cursor.execute(\"select avg(weight) as av from players;\")\n",
    "    av = cursor.fetchall()[0][0]  # first column of first (and only) row\n",
    "    cursor.execute(\"select name, weight from players where weight < \" + str(av))\n",
    "    return cursor.fetchall()"
   ]
  },
  {
   "cell_type": "code",
   "execution_count": 4,
   "metadata": {
    "collapsed": false
   },
   "outputs": [],
   "source": [
    "# Below if related to SQLie Python tutorial: http://zetcode.com/db/sqlitepythontutorial/\n",
    "\n",
    "import sqlite3\n"
   ]
  },
  {
   "cell_type": "code",
   "execution_count": 7,
   "metadata": {
    "collapsed": false
   },
   "outputs": [
    {
     "name": "stdout",
     "output_type": "stream",
     "text": [
      "Collecting psycopg2\n",
      "  Downloading psycopg2-2.6.1-cp27-none-win_amd64.whl (1.2MB)\n",
      "Installing collected packages: psycopg2\n",
      "Successfully installed psycopg2-2.6.1\n"
     ]
    },
    {
     "name": "stderr",
     "output_type": "stream",
     "text": [
      "You are using pip version 8.1.1, however version 8.1.2 is available.\n",
      "You should consider upgrading via the 'python -m pip install --upgrade pip' command.\n"
     ]
    }
   ],
   "source": [
    "!pip install psycopg2"
   ]
  },
  {
   "cell_type": "code",
   "execution_count": 9,
   "metadata": {
    "collapsed": false
   },
   "outputs": [],
   "source": [
    "# # Using PostgreSQL in Python (with Psycopg2)\n",
    "import psycopg2 as pg2"
   ]
  },
  {
   "cell_type": "code",
   "execution_count": 11,
   "metadata": {
    "collapsed": false
   },
   "outputs": [],
   "source": [
    "conn = pg2.connect(database='dvdtwo', user = 'postgres', password= '3013landinG')"
   ]
  },
  {
   "cell_type": "code",
   "execution_count": 41,
   "metadata": {
    "collapsed": true
   },
   "outputs": [],
   "source": [
    "cur =conn.cursor()"
   ]
  },
  {
   "cell_type": "code",
   "execution_count": 42,
   "metadata": {
    "collapsed": true
   },
   "outputs": [],
   "source": [
    "cur.execute('SELECT * FROM payment')"
   ]
  },
  {
   "cell_type": "code",
   "execution_count": 18,
   "metadata": {
    "collapsed": false
   },
   "outputs": [],
   "source": [
    "cur.fetchall()\n",
    "cur.fetchone()"
   ]
  },
  {
   "cell_type": "code",
   "execution_count": 43,
   "metadata": {
    "collapsed": false
   },
   "outputs": [
    {
     "data": {
      "text/plain": [
       "[(17503,\n",
       "  341,\n",
       "  2,\n",
       "  1520,\n",
       "  Decimal('7.99'),\n",
       "  datetime.datetime(2007, 2, 15, 22, 25, 46, 996577)),\n",
       " (17504,\n",
       "  341,\n",
       "  1,\n",
       "  1778,\n",
       "  Decimal('1.99'),\n",
       "  datetime.datetime(2007, 2, 16, 17, 23, 14, 996577))]"
      ]
     },
     "execution_count": 43,
     "metadata": {},
     "output_type": "execute_result"
    }
   ],
   "source": [
    "cur.fetchmany(2)"
   ]
  },
  {
   "cell_type": "code",
   "execution_count": 31,
   "metadata": {
    "collapsed": false
   },
   "outputs": [],
   "source": [
    "data = cur.fetchmany(2)"
   ]
  },
  {
   "cell_type": "code",
   "execution_count": 38,
   "metadata": {
    "collapsed": false
   },
   "outputs": [
    {
     "data": {
      "text/plain": [
       "17510"
      ]
     },
     "execution_count": 38,
     "metadata": {},
     "output_type": "execute_result"
    }
   ],
   "source": [
    "data[1][0]"
   ]
  },
  {
   "cell_type": "code",
   "execution_count": null,
   "metadata": {
    "collapsed": true
   },
   "outputs": [],
   "source": [
    "conn.close()"
   ]
  },
  {
   "cell_type": "code",
   "execution_count": 27,
   "metadata": {
    "collapsed": false
   },
   "outputs": [],
   "source": []
  },
  {
   "cell_type": "code",
   "execution_count": null,
   "metadata": {
    "collapsed": true
   },
   "outputs": [],
   "source": []
  },
  {
   "cell_type": "code",
   "execution_count": null,
   "metadata": {
    "collapsed": true
   },
   "outputs": [],
   "source": []
  },
  {
   "cell_type": "code",
   "execution_count": null,
   "metadata": {
    "collapsed": true
   },
   "outputs": [],
   "source": []
  },
  {
   "cell_type": "code",
   "execution_count": null,
   "metadata": {
    "collapsed": true
   },
   "outputs": [],
   "source": []
  },
  {
   "cell_type": "code",
   "execution_count": null,
   "metadata": {
    "collapsed": true
   },
   "outputs": [],
   "source": []
  },
  {
   "cell_type": "code",
   "execution_count": null,
   "metadata": {
    "collapsed": true
   },
   "outputs": [],
   "source": []
  },
  {
   "cell_type": "code",
   "execution_count": null,
   "metadata": {
    "collapsed": true
   },
   "outputs": [],
   "source": []
  },
  {
   "cell_type": "code",
   "execution_count": null,
   "metadata": {
    "collapsed": true
   },
   "outputs": [],
   "source": [
    "\n",
    "# coding: utf-8\n",
    "\n",
    "# # Using PostgreSQL in Python (with Psycopg2)\n",
    "# \n",
    "# ## Problem: \n",
    "# ### Your data is in a SQL database, but your machine learning tools are in Python.\n",
    "# \n",
    "# ---------\n",
    "# \n",
    "# ## Solution:\n",
    "# ### Run SQL queries from Python\n",
    "# \n",
    "# * Very useful for scaled data pipelines, pre-cleaning, data exploration\n",
    "# * Allows for dynamic query generation\n",
    "# \n",
    "# ---------\n",
    "\n",
    "# ### Psycopg2\n",
    "# A library that allows Python to connect to an existing PostgreSQL database to utilize SQL functionality.\n",
    "# \n",
    "# \n",
    "# ### Documentation\n",
    "# * http://initd.org/psycopg/docs/install.html\n",
    "\n",
    "# # Objectives\n",
    "# \n",
    "# - Learn how to connect to and run Postgres queries from Python\n",
    "# - Understand cursors, executes, and commits\n",
    "# - Learn how to generate dynamic queries\n",
    "\n",
    "# In[ ]:\n",
    "\n",
    "# basic usage\n",
    "query = \"SELECT * FROM some_table;\"\n",
    "cursor.execute(query)\n",
    "results = cursor.fetchall()\n",
    "\n",
    "\n",
    "# # Creating a connection with Postgres\n",
    "\n",
    "# ### Import\n",
    "\n",
    "# In[1]:\n",
    "\n",
    "import psycopg2 as pg2\n",
    "\n",
    "\n",
    "# ### Create connection with Postgres\n",
    "\n",
    "# In[2]:\n",
    "\n",
    "conn = pg2.connect(database='postgres', user='brad')\n",
    "\n",
    "\n",
    "# ### Retrieve the Cursor\n",
    "# \n",
    "# * A cursor is a control structure that enables traversal over the records in a database.  You can think of it as an iterator or pointer for Sql data retrieval.\n",
    "\n",
    "# In[3]:\n",
    "\n",
    "\n",
    "cur = conn.cursor()\n",
    "\n",
    "\n",
    "# ## Create a database\n",
    "\n",
    "# In[4]:\n",
    "\n",
    "cur.execute('CREATE DATABASE lecture')\n",
    "\n",
    "\n",
    "# ## What happened?!\n",
    "# ### Normally we execute \"temporary transactions\", but database-wide operations cannot be run temporarily.\n",
    "# \n",
    "# ### Try again:\n",
    "\n",
    "# In[6]:\n",
    "\n",
    "conn.close()\n",
    "\n",
    "conn = pg2.connect(dbname = 'postgres', user='brad')\n",
    "conn.set_session(autocommit = True)\n",
    "\n",
    "cur = conn.cursor()\n",
    "cur.execute('CREATE DATABASE lecture')\n",
    "\n",
    "\n",
    "# ## Disconnect from the cursor and database (again)\n",
    "\n",
    "# In[7]:\n",
    "\n",
    "cur.close() # optional, closing connection always closes any associated cursors\n",
    "conn.close()\n",
    "\n",
    "\n",
    "# ## Let's use our new database\n",
    "\n",
    "# In[53]:\n",
    "\n",
    "conn = pg2.connect(database='lecture', user='brad')\n",
    "\n",
    "\n",
    "# In[54]:\n",
    "\n",
    "cur = conn.cursor()\n",
    "\n",
    "\n",
    "# ### Create a new table\n",
    "\n",
    "# In[55]:\n",
    "\n",
    "query1 = '''\n",
    "        CREATE TABLE logins (\n",
    "            userid integer\n",
    "            , tmstmp timestamp\n",
    "            , type varchar(10)\n",
    "        );\n",
    "        '''\n",
    "\n",
    "\n",
    "\n",
    "# In[56]:\n",
    "\n",
    "\n",
    "cur.execute(query1)\n",
    "\n",
    "\n",
    "# ### Insert csv into new table\n",
    "\n",
    "# In[57]:\n",
    "\n",
    "query2 = '''\n",
    "        COPY logins \n",
    "        FROM '/Users/brad/Dropbox/Galvanize/sql-python/data/lecture-example/logins01.csv' \n",
    "        DELIMITER ',' \n",
    "        CSV;\n",
    "        '''\n",
    "\n",
    "\n",
    "# In[58]:\n",
    "\n",
    "\n",
    "cur.execute(query2)\n",
    "\n",
    "\n",
    "# ### Lets take a look at the data\n",
    "\n",
    "# In[59]:\n",
    "\n",
    "query3 = '''\n",
    "        SELECT *\n",
    "        FROM logins\n",
    "        LIMIT 20;\n",
    "        '''\n",
    "\n",
    "\n",
    "# In[60]:\n",
    "\n",
    "cur.execute(query3)\n",
    "\n",
    "\n",
    "# ### One line at a time\n",
    "\n",
    "# In[61]:\n",
    "\n",
    "cur.fetchone()\n",
    "\n",
    "\n",
    "# ### Many lines at a time\n",
    "\n",
    "# In[62]:\n",
    "\n",
    "cur.fetchmany(5)\n",
    "\n",
    "\n",
    "# ### Or everything at once\n",
    "\n",
    "# In[63]:\n",
    "\n",
    "cur.fetchall()\n",
    "\n",
    "\n",
    "# In[64]:\n",
    "\n",
    "\n",
    "cur.execute('SELECT Count(*) FROM logins')\n",
    "\n",
    "\n",
    "# In[65]:\n",
    "\n",
    "cur.fetchall()\n",
    "\n",
    "\n",
    "# # Dynamic Queries\n",
    "# \n",
    "# We have 8 login csv files that we need to insert into the logins table.  Instead of doing a COPY FROM query 8 times, we should utilize Python to make this more efficient.  This is possible due to tokenized strings.\n",
    "\n",
    "# In[47]:\n",
    "\n",
    "# os is needed because we want to dynamically identify the files \n",
    "# we need to insert.\n",
    "import os\n",
    "\n",
    "\n",
    "# In[48]:\n",
    "\n",
    "query4 = '''\n",
    "        COPY logins \n",
    "        FROM %(file_path)s\n",
    "        DELIMITER ',' \n",
    "        CSV;\n",
    "        '''\n",
    "\n",
    "folder_path = '/Users/brad/Dropbox/Galvanize/sql-python/data/lecture-example/'\n",
    "\n",
    "\n",
    "# In[49]:\n",
    "\n",
    "fnames = os.listdir(folder_path)\n",
    "\n",
    "for fname in fnames:\n",
    "    path = os.path.join(folder_path, fname)\n",
    "    cur.execute(query4, {'file_path': path})\n",
    "\n",
    "\n",
    "\n",
    "# # WARNING: BEWARE OF SQL INJECTION\n",
    "# \n",
    "# ## NEVER use + or % to reformat strings to be used with .execute\n",
    "\n",
    "# In[66]:\n",
    "\n",
    "num = 579\n",
    "terribly_unsafe = \"SELECT * FROM logins WHERE userid = \" + str(num)\n",
    "print terribly_unsafe\n",
    "\n",
    "\n",
    "date_cut = \"2014-08-01\"\n",
    "horribly_risky = \"SELECT * FROM logins WHERE tmstmp > %s\" % date_cut\n",
    "print horribly_risky\n",
    "## Python is happy, but if num or date_cut included something malicious\n",
    "## your data could be at risk\n",
    "\n",
    "\n",
    "# ### Don't forget to commit your changes\n",
    "\n",
    "# In[ ]:\n",
    "\n",
    "cur.commit()\n",
    "\n",
    "\n",
    "# ## And then close your connection\n",
    "\n",
    "# In[67]:\n",
    "\n",
    "cur.close()\n",
    "conn.close()\n",
    "\n",
    "\n",
    "# # Key Things to Know\n",
    "# \n",
    "# * Connections must be established using an existing database, username, database IP/URL, and maybe passwords\n",
    "# * If you have no existing databases, you can connect to Postgres using the dbname 'postgres' to initialize one\n",
    "# * Data changes are not actually stored until you choose to commit. This can be done either through commit() or setting autocommit = True.  Until commited, transactions are only stored temporarily\n",
    "#     - Autocommit = True is necessary to do database commands like CREATE DATABASE.  This is because Postgres does not have temporary transactions at the database level.\n",
    "#     - Use .rollback() on the connection if your .execute() command results in an error. (Only works if change has not yet been committed) \n",
    "# * SQL connection databases utilize cursors for data traversal and retrieval.  This is kind of like an iterator in Python.\n",
    "# * Cursor operations typically go like the following:\n",
    "#     - execute a query\n",
    "#     - fetch rows from query result if it is a SELECT query\n",
    "#     - because it is iterative, previously fetched rows can only be fetched again by rerunning the query\n",
    "#     - close cursor through .close()\n",
    "# * Cursors and Connections must be closed using .close() or else Postgres will lock certain operations on the database/tables until the connection is severed. \n",
    "# \n",
    "\n",
    "# ## And don't leave yourself vulnerable to SQL injection!\n",
    "# http://xkcd.com/327/\n",
    "\n",
    "# In[ ]:\n",
    "\n",
    "\n",
    "\n"
   ]
  }
 ],
 "metadata": {
  "kernelspec": {
   "display_name": "Python 2",
   "language": "python",
   "name": "python2"
  },
  "language_info": {
   "codemirror_mode": {
    "name": "ipython",
    "version": 2
   },
   "file_extension": ".py",
   "mimetype": "text/x-python",
   "name": "python",
   "nbconvert_exporter": "python",
   "pygments_lexer": "ipython2",
   "version": "2.7.11"
  }
 },
 "nbformat": 4,
 "nbformat_minor": 0
}
